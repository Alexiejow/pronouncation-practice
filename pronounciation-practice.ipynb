{
 "cells": [
  {
   "cell_type": "code",
   "execution_count": 2,
   "metadata": {},
   "outputs": [],
   "source": [
    "import speech_recognition as sr\n",
    "import pyaudio\n",
    "import time\n",
    "\n",
    "from selenium import webdriver\n",
    "import undetected_chromedriver as uc\n",
    "from selenium.webdriver.common.keys import Keys\n",
    "from selenium.webdriver.support.ui import WebDriverWait\n",
    "from selenium.webdriver.common.by import By\n",
    "from selenium.webdriver.support import expected_conditions as EC\n",
    "\n",
    "import osascript\n",
    "import os\n",
    "\n",
    "from bs4 import BeautifulSoup\n",
    "\n"
   ]
  },
  {
   "cell_type": "code",
   "execution_count": 42,
   "metadata": {},
   "outputs": [
    {
     "data": {
      "text/plain": [
       "True"
      ]
     },
     "execution_count": 42,
     "metadata": {},
     "output_type": "execute_result"
    }
   ],
   "source": [
    "\"bad_gateway\" in locals()"
   ]
  },
  {
   "cell_type": "code",
   "execution_count": 5,
   "metadata": {},
   "outputs": [
    {
     "name": "stdout",
     "output_type": "stream",
     "text": [
      "TALK\n",
      "København\n",
      "TALK\n"
     ]
    },
    {
     "ename": "KeyboardInterrupt",
     "evalue": "",
     "output_type": "error",
     "traceback": [
      "\u001b[0;31m---------------------------------------------------------------------------\u001b[0m",
      "\u001b[0;31mKeyboardInterrupt\u001b[0m                         Traceback (most recent call last)",
      "Cell \u001b[0;32mIn [5], line 32\u001b[0m\n\u001b[1;32m     30\u001b[0m \u001b[39mwith\u001b[39;00m sr\u001b[39m.\u001b[39mMicrophone() \u001b[39mas\u001b[39;00m source:\n\u001b[1;32m     31\u001b[0m     \u001b[39mprint\u001b[39m(\u001b[39m\"\u001b[39m\u001b[39mTALK\u001b[39m\u001b[39m\"\u001b[39m)\n\u001b[0;32m---> 32\u001b[0m     audio_data \u001b[39m=\u001b[39m r\u001b[39m.\u001b[39;49mlisten(source)\n\u001b[1;32m     33\u001b[0m     text \u001b[39m=\u001b[39m r\u001b[39m.\u001b[39mrecognize_google(audio_data, language\u001b[39m=\u001b[39m\u001b[39m\"\u001b[39m\u001b[39mda-DK\u001b[39m\u001b[39m\"\u001b[39m)\n\u001b[1;32m     34\u001b[0m     \u001b[39mprint\u001b[39m(text)\n",
      "File \u001b[0;32m/Library/Frameworks/Python.framework/Versions/3.10/lib/python3.10/site-packages/speech_recognition/__init__.py:652\u001b[0m, in \u001b[0;36mRecognizer.listen\u001b[0;34m(self, source, timeout, phrase_time_limit, snowboy_configuration)\u001b[0m\n\u001b[1;32m    649\u001b[0m \u001b[39mif\u001b[39;00m phrase_time_limit \u001b[39mand\u001b[39;00m elapsed_time \u001b[39m-\u001b[39m phrase_start_time \u001b[39m>\u001b[39m phrase_time_limit:\n\u001b[1;32m    650\u001b[0m     \u001b[39mbreak\u001b[39;00m\n\u001b[0;32m--> 652\u001b[0m buffer \u001b[39m=\u001b[39m source\u001b[39m.\u001b[39;49mstream\u001b[39m.\u001b[39;49mread(source\u001b[39m.\u001b[39;49mCHUNK)\n\u001b[1;32m    653\u001b[0m \u001b[39mif\u001b[39;00m \u001b[39mlen\u001b[39m(buffer) \u001b[39m==\u001b[39m \u001b[39m0\u001b[39m: \u001b[39mbreak\u001b[39;00m  \u001b[39m# reached end of the stream\u001b[39;00m\n\u001b[1;32m    654\u001b[0m frames\u001b[39m.\u001b[39mappend(buffer)\n",
      "File \u001b[0;32m/Library/Frameworks/Python.framework/Versions/3.10/lib/python3.10/site-packages/speech_recognition/__init__.py:161\u001b[0m, in \u001b[0;36mMicrophone.MicrophoneStream.read\u001b[0;34m(self, size)\u001b[0m\n\u001b[1;32m    160\u001b[0m \u001b[39mdef\u001b[39;00m \u001b[39mread\u001b[39m(\u001b[39mself\u001b[39m, size):\n\u001b[0;32m--> 161\u001b[0m     \u001b[39mreturn\u001b[39;00m \u001b[39mself\u001b[39;49m\u001b[39m.\u001b[39;49mpyaudio_stream\u001b[39m.\u001b[39;49mread(size, exception_on_overflow\u001b[39m=\u001b[39;49m\u001b[39mFalse\u001b[39;49;00m)\n",
      "File \u001b[0;32m/Library/Frameworks/Python.framework/Versions/3.10/lib/python3.10/site-packages/pyaudio.py:612\u001b[0m, in \u001b[0;36mStream.read\u001b[0;34m(self, num_frames, exception_on_overflow)\u001b[0m\n\u001b[1;32m    608\u001b[0m \u001b[39mif\u001b[39;00m \u001b[39mnot\u001b[39;00m \u001b[39mself\u001b[39m\u001b[39m.\u001b[39m_is_input:\n\u001b[1;32m    609\u001b[0m     \u001b[39mraise\u001b[39;00m \u001b[39mIOError\u001b[39;00m(\u001b[39m\"\u001b[39m\u001b[39mNot input stream\u001b[39m\u001b[39m\"\u001b[39m,\n\u001b[1;32m    610\u001b[0m                   paCanNotReadFromAnOutputOnlyStream)\n\u001b[0;32m--> 612\u001b[0m \u001b[39mreturn\u001b[39;00m pa\u001b[39m.\u001b[39;49mread_stream(\u001b[39mself\u001b[39;49m\u001b[39m.\u001b[39;49m_stream, num_frames, exception_on_overflow)\n",
      "\u001b[0;31mKeyboardInterrupt\u001b[0m: "
     ]
    }
   ],
   "source": [
    "\n",
    "while(\"bad_gateway\" not in globals() or len(bad_gateway) == 0):\n",
    "\n",
    "    # code,out,err = osascript.run('quit app \"Tor Browser\"')\n",
    "    # os.system(\"open /Applications/TorBrowser.app\")\n",
    "    # time.sleep(5)\n",
    "    # PROXY = \"socks5://127.0.0.1:9150\"\n",
    "    # options = webdriver.ChromeOptions()\n",
    "    # options.add_argument('--proxy-server=%s' % PROXY)\n",
    "\n",
    "    driver = uc.Chrome()\n",
    "    wait = WebDriverWait(driver, 10)\n",
    "    driver.get('https://pl.forvo.com/languages/da/')\n",
    "    bad_gateway = driver.find_elements(By.XPATH, \"//*[contains(text(),'\" + 'Bad gateway' + \"')]\")\n",
    "\n",
    "    if(len(bad_gateway) > 0):\n",
    "        print('Bad gateway detected')\n",
    "        driver.quit()\n",
    "        continue\n",
    "    else:\n",
    "        wait.until(EC.element_to_be_clickable((By.CSS_SELECTOR, \"button.css-47sehv\"))).click()\n",
    "        del bad_gateway\n",
    "        break\n",
    "\n",
    "r = sr.Recognizer()\n",
    "\n",
    "while(True):\n",
    "\n",
    "    driver.minimize_window()\n",
    "\n",
    "    with sr.Microphone() as source:\n",
    "        print(\"TALK\")\n",
    "        audio_data = r.listen(source)\n",
    "        text = r.recognize_google(audio_data, language=\"da-DK\")\n",
    "        print(text)\n",
    "\n",
    "    driver.maximize_window()\n",
    "\n",
    "    wait.until(EC.element_to_be_clickable((By.ID, \"word_search_header\"))).clear()\n",
    "    wait.until(EC.element_to_be_clickable((By.ID, \"word_search_header\"))).send_keys(text)\n",
    "    wait.until(EC.element_to_be_clickable((By.TAG_NAME, \"body\"))).click()\n",
    "    wait.until(EC.element_to_be_clickable((By.CSS_SELECTOR, \"button[type='submit']\"))).click()\n",
    "\n",
    "    # wait.until(EC.element_to_be_clickable((By.CSS_SELECTOR, \"div.play\"))).click()\n",
    "    # play_buttons = driver.find_elements(By.CSS_SELECTOR, \"div.play\")\n",
    "    # play_buttons[0].click()\n",
    "\n",
    "    time.sleep(5)\n"
   ]
  },
  {
   "cell_type": "code",
   "execution_count": null,
   "metadata": {},
   "outputs": [],
   "source": [
    "\n",
    "\n",
    "\n"
   ]
  },
  {
   "cell_type": "code",
   "execution_count": null,
   "metadata": {},
   "outputs": [],
   "source": []
  }
 ],
 "metadata": {
  "kernelspec": {
   "display_name": "Python 3.10.6 64-bit",
   "language": "python",
   "name": "python3"
  },
  "language_info": {
   "codemirror_mode": {
    "name": "ipython",
    "version": 3
   },
   "file_extension": ".py",
   "mimetype": "text/x-python",
   "name": "python",
   "nbconvert_exporter": "python",
   "pygments_lexer": "ipython3",
   "version": "3.10.6"
  },
  "orig_nbformat": 4,
  "vscode": {
   "interpreter": {
    "hash": "aee8b7b246df8f9039afb4144a1f6fd8d2ca17a180786b69acc140d282b71a49"
   }
  }
 },
 "nbformat": 4,
 "nbformat_minor": 2
}
